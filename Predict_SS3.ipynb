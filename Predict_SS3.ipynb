{
  "nbformat": 4,
  "nbformat_minor": 0,
  "metadata": {
    "colab": {
      "name": "Predict-SS3.ipynb",
      "provenance": []
    },
    "kernelspec": {
      "name": "python3",
      "display_name": "Python 3"
    },
    "accelerator": "GPU",
    "widgets": {
      "application/vnd.jupyter.widget-state+json": {
        "3d6dfa9857f74598a02eb5456be65328": {
          "model_module": "@jupyter-widgets/controls",
          "model_name": "HBoxModel",
          "state": {
            "_view_name": "HBoxView",
            "_dom_classes": [],
            "_model_name": "HBoxModel",
            "_view_module": "@jupyter-widgets/controls",
            "_model_module_version": "1.5.0",
            "_view_count": null,
            "_view_module_version": "1.5.0",
            "box_style": "",
            "layout": "IPY_MODEL_c9f103b5c21d4518aa54361d80e2c237",
            "_model_module": "@jupyter-widgets/controls",
            "children": [
              "IPY_MODEL_22a6a44d182e47be97d4908144bc7e47",
              "IPY_MODEL_05980601a9ff48d9a48da7be8b5cf291"
            ]
          }
        },
        "c9f103b5c21d4518aa54361d80e2c237": {
          "model_module": "@jupyter-widgets/base",
          "model_name": "LayoutModel",
          "state": {
            "_view_name": "LayoutView",
            "grid_template_rows": null,
            "right": null,
            "justify_content": null,
            "_view_module": "@jupyter-widgets/base",
            "overflow": null,
            "_model_module_version": "1.2.0",
            "_view_count": null,
            "flex_flow": null,
            "width": null,
            "min_width": null,
            "border": null,
            "align_items": null,
            "bottom": null,
            "_model_module": "@jupyter-widgets/base",
            "top": null,
            "grid_column": null,
            "overflow_y": null,
            "overflow_x": null,
            "grid_auto_flow": null,
            "grid_area": null,
            "grid_template_columns": null,
            "flex": null,
            "_model_name": "LayoutModel",
            "justify_items": null,
            "grid_row": null,
            "max_height": null,
            "align_content": null,
            "visibility": null,
            "align_self": null,
            "height": null,
            "min_height": null,
            "padding": null,
            "grid_auto_rows": null,
            "grid_gap": null,
            "max_width": null,
            "order": null,
            "_view_module_version": "1.2.0",
            "grid_template_areas": null,
            "object_position": null,
            "object_fit": null,
            "grid_auto_columns": null,
            "margin": null,
            "display": null,
            "left": null
          }
        },
        "22a6a44d182e47be97d4908144bc7e47": {
          "model_module": "@jupyter-widgets/controls",
          "model_name": "FloatProgressModel",
          "state": {
            "_view_name": "ProgressView",
            "style": "IPY_MODEL_1a5b83e729d6469e92d9875346cf1839",
            "_dom_classes": [],
            "description": "Downloading: 100%",
            "_model_name": "FloatProgressModel",
            "bar_style": "success",
            "max": 632,
            "_view_module": "@jupyter-widgets/controls",
            "_model_module_version": "1.5.0",
            "value": 632,
            "_view_count": null,
            "_view_module_version": "1.5.0",
            "orientation": "horizontal",
            "min": 0,
            "description_tooltip": null,
            "_model_module": "@jupyter-widgets/controls",
            "layout": "IPY_MODEL_5a07a7d2e80f478eb7211a132c39c3a0"
          }
        },
        "05980601a9ff48d9a48da7be8b5cf291": {
          "model_module": "@jupyter-widgets/controls",
          "model_name": "HTMLModel",
          "state": {
            "_view_name": "HTMLView",
            "style": "IPY_MODEL_8ca73830dd2f42909ea2b776378def09",
            "_dom_classes": [],
            "description": "",
            "_model_name": "HTMLModel",
            "placeholder": "​",
            "_view_module": "@jupyter-widgets/controls",
            "_model_module_version": "1.5.0",
            "value": " 632/632 [21:22&lt;00:00, 2.03s/B]",
            "_view_count": null,
            "_view_module_version": "1.5.0",
            "description_tooltip": null,
            "_model_module": "@jupyter-widgets/controls",
            "layout": "IPY_MODEL_eed7821f99a94cf6a048d34f9a0e5fda"
          }
        },
        "1a5b83e729d6469e92d9875346cf1839": {
          "model_module": "@jupyter-widgets/controls",
          "model_name": "ProgressStyleModel",
          "state": {
            "_view_name": "StyleView",
            "_model_name": "ProgressStyleModel",
            "description_width": "initial",
            "_view_module": "@jupyter-widgets/base",
            "_model_module_version": "1.5.0",
            "_view_count": null,
            "_view_module_version": "1.2.0",
            "bar_color": null,
            "_model_module": "@jupyter-widgets/controls"
          }
        },
        "5a07a7d2e80f478eb7211a132c39c3a0": {
          "model_module": "@jupyter-widgets/base",
          "model_name": "LayoutModel",
          "state": {
            "_view_name": "LayoutView",
            "grid_template_rows": null,
            "right": null,
            "justify_content": null,
            "_view_module": "@jupyter-widgets/base",
            "overflow": null,
            "_model_module_version": "1.2.0",
            "_view_count": null,
            "flex_flow": null,
            "width": null,
            "min_width": null,
            "border": null,
            "align_items": null,
            "bottom": null,
            "_model_module": "@jupyter-widgets/base",
            "top": null,
            "grid_column": null,
            "overflow_y": null,
            "overflow_x": null,
            "grid_auto_flow": null,
            "grid_area": null,
            "grid_template_columns": null,
            "flex": null,
            "_model_name": "LayoutModel",
            "justify_items": null,
            "grid_row": null,
            "max_height": null,
            "align_content": null,
            "visibility": null,
            "align_self": null,
            "height": null,
            "min_height": null,
            "padding": null,
            "grid_auto_rows": null,
            "grid_gap": null,
            "max_width": null,
            "order": null,
            "_view_module_version": "1.2.0",
            "grid_template_areas": null,
            "object_position": null,
            "object_fit": null,
            "grid_auto_columns": null,
            "margin": null,
            "display": null,
            "left": null
          }
        },
        "8ca73830dd2f42909ea2b776378def09": {
          "model_module": "@jupyter-widgets/controls",
          "model_name": "DescriptionStyleModel",
          "state": {
            "_view_name": "StyleView",
            "_model_name": "DescriptionStyleModel",
            "description_width": "",
            "_view_module": "@jupyter-widgets/base",
            "_model_module_version": "1.5.0",
            "_view_count": null,
            "_view_module_version": "1.2.0",
            "_model_module": "@jupyter-widgets/controls"
          }
        },
        "eed7821f99a94cf6a048d34f9a0e5fda": {
          "model_module": "@jupyter-widgets/base",
          "model_name": "LayoutModel",
          "state": {
            "_view_name": "LayoutView",
            "grid_template_rows": null,
            "right": null,
            "justify_content": null,
            "_view_module": "@jupyter-widgets/base",
            "overflow": null,
            "_model_module_version": "1.2.0",
            "_view_count": null,
            "flex_flow": null,
            "width": null,
            "min_width": null,
            "border": null,
            "align_items": null,
            "bottom": null,
            "_model_module": "@jupyter-widgets/base",
            "top": null,
            "grid_column": null,
            "overflow_y": null,
            "overflow_x": null,
            "grid_auto_flow": null,
            "grid_area": null,
            "grid_template_columns": null,
            "flex": null,
            "_model_name": "LayoutModel",
            "justify_items": null,
            "grid_row": null,
            "max_height": null,
            "align_content": null,
            "visibility": null,
            "align_self": null,
            "height": null,
            "min_height": null,
            "padding": null,
            "grid_auto_rows": null,
            "grid_gap": null,
            "max_width": null,
            "order": null,
            "_view_module_version": "1.2.0",
            "grid_template_areas": null,
            "object_position": null,
            "object_fit": null,
            "grid_auto_columns": null,
            "margin": null,
            "display": null,
            "left": null
          }
        },
        "87b4d585c053417ebedea66ab38c5696": {
          "model_module": "@jupyter-widgets/controls",
          "model_name": "HBoxModel",
          "state": {
            "_view_name": "HBoxView",
            "_dom_classes": [],
            "_model_name": "HBoxModel",
            "_view_module": "@jupyter-widgets/controls",
            "_model_module_version": "1.5.0",
            "_view_count": null,
            "_view_module_version": "1.5.0",
            "box_style": "",
            "layout": "IPY_MODEL_928913b5259543f193d72270351cdd00",
            "_model_module": "@jupyter-widgets/controls",
            "children": [
              "IPY_MODEL_a4721bc19fbc4afcb6cb073a044a45af",
              "IPY_MODEL_e791e3618b824ef897c09588db68591b"
            ]
          }
        },
        "928913b5259543f193d72270351cdd00": {
          "model_module": "@jupyter-widgets/base",
          "model_name": "LayoutModel",
          "state": {
            "_view_name": "LayoutView",
            "grid_template_rows": null,
            "right": null,
            "justify_content": null,
            "_view_module": "@jupyter-widgets/base",
            "overflow": null,
            "_model_module_version": "1.2.0",
            "_view_count": null,
            "flex_flow": null,
            "width": null,
            "min_width": null,
            "border": null,
            "align_items": null,
            "bottom": null,
            "_model_module": "@jupyter-widgets/base",
            "top": null,
            "grid_column": null,
            "overflow_y": null,
            "overflow_x": null,
            "grid_auto_flow": null,
            "grid_area": null,
            "grid_template_columns": null,
            "flex": null,
            "_model_name": "LayoutModel",
            "justify_items": null,
            "grid_row": null,
            "max_height": null,
            "align_content": null,
            "visibility": null,
            "align_self": null,
            "height": null,
            "min_height": null,
            "padding": null,
            "grid_auto_rows": null,
            "grid_gap": null,
            "max_width": null,
            "order": null,
            "_view_module_version": "1.2.0",
            "grid_template_areas": null,
            "object_position": null,
            "object_fit": null,
            "grid_auto_columns": null,
            "margin": null,
            "display": null,
            "left": null
          }
        },
        "a4721bc19fbc4afcb6cb073a044a45af": {
          "model_module": "@jupyter-widgets/controls",
          "model_name": "FloatProgressModel",
          "state": {
            "_view_name": "ProgressView",
            "style": "IPY_MODEL_5acc38c51ca34465814843f31c3ce645",
            "_dom_classes": [],
            "description": "Downloading: 100%",
            "_model_name": "FloatProgressModel",
            "bar_style": "success",
            "max": 1676061559,
            "_view_module": "@jupyter-widgets/controls",
            "_model_module_version": "1.5.0",
            "value": 1676061559,
            "_view_count": null,
            "_view_module_version": "1.5.0",
            "orientation": "horizontal",
            "min": 0,
            "description_tooltip": null,
            "_model_module": "@jupyter-widgets/controls",
            "layout": "IPY_MODEL_8de92cf63dd54b83a65ce158e99beaec"
          }
        },
        "e791e3618b824ef897c09588db68591b": {
          "model_module": "@jupyter-widgets/controls",
          "model_name": "HTMLModel",
          "state": {
            "_view_name": "HTMLView",
            "style": "IPY_MODEL_86fc47091ef14738825bdb5e9b57d09a",
            "_dom_classes": [],
            "description": "",
            "_model_name": "HTMLModel",
            "placeholder": "​",
            "_view_module": "@jupyter-widgets/controls",
            "_model_module_version": "1.5.0",
            "value": " 1.68G/1.68G [00:39&lt;00:00, 42.9MB/s]",
            "_view_count": null,
            "_view_module_version": "1.5.0",
            "description_tooltip": null,
            "_model_module": "@jupyter-widgets/controls",
            "layout": "IPY_MODEL_15ada3856b8e416a8d09fc85b7ef89c1"
          }
        },
        "5acc38c51ca34465814843f31c3ce645": {
          "model_module": "@jupyter-widgets/controls",
          "model_name": "ProgressStyleModel",
          "state": {
            "_view_name": "StyleView",
            "_model_name": "ProgressStyleModel",
            "description_width": "initial",
            "_view_module": "@jupyter-widgets/base",
            "_model_module_version": "1.5.0",
            "_view_count": null,
            "_view_module_version": "1.2.0",
            "bar_color": null,
            "_model_module": "@jupyter-widgets/controls"
          }
        },
        "8de92cf63dd54b83a65ce158e99beaec": {
          "model_module": "@jupyter-widgets/base",
          "model_name": "LayoutModel",
          "state": {
            "_view_name": "LayoutView",
            "grid_template_rows": null,
            "right": null,
            "justify_content": null,
            "_view_module": "@jupyter-widgets/base",
            "overflow": null,
            "_model_module_version": "1.2.0",
            "_view_count": null,
            "flex_flow": null,
            "width": null,
            "min_width": null,
            "border": null,
            "align_items": null,
            "bottom": null,
            "_model_module": "@jupyter-widgets/base",
            "top": null,
            "grid_column": null,
            "overflow_y": null,
            "overflow_x": null,
            "grid_auto_flow": null,
            "grid_area": null,
            "grid_template_columns": null,
            "flex": null,
            "_model_name": "LayoutModel",
            "justify_items": null,
            "grid_row": null,
            "max_height": null,
            "align_content": null,
            "visibility": null,
            "align_self": null,
            "height": null,
            "min_height": null,
            "padding": null,
            "grid_auto_rows": null,
            "grid_gap": null,
            "max_width": null,
            "order": null,
            "_view_module_version": "1.2.0",
            "grid_template_areas": null,
            "object_position": null,
            "object_fit": null,
            "grid_auto_columns": null,
            "margin": null,
            "display": null,
            "left": null
          }
        },
        "86fc47091ef14738825bdb5e9b57d09a": {
          "model_module": "@jupyter-widgets/controls",
          "model_name": "DescriptionStyleModel",
          "state": {
            "_view_name": "StyleView",
            "_model_name": "DescriptionStyleModel",
            "description_width": "",
            "_view_module": "@jupyter-widgets/base",
            "_model_module_version": "1.5.0",
            "_view_count": null,
            "_view_module_version": "1.2.0",
            "_model_module": "@jupyter-widgets/controls"
          }
        },
        "15ada3856b8e416a8d09fc85b7ef89c1": {
          "model_module": "@jupyter-widgets/base",
          "model_name": "LayoutModel",
          "state": {
            "_view_name": "LayoutView",
            "grid_template_rows": null,
            "right": null,
            "justify_content": null,
            "_view_module": "@jupyter-widgets/base",
            "overflow": null,
            "_model_module_version": "1.2.0",
            "_view_count": null,
            "flex_flow": null,
            "width": null,
            "min_width": null,
            "border": null,
            "align_items": null,
            "bottom": null,
            "_model_module": "@jupyter-widgets/base",
            "top": null,
            "grid_column": null,
            "overflow_y": null,
            "overflow_x": null,
            "grid_auto_flow": null,
            "grid_area": null,
            "grid_template_columns": null,
            "flex": null,
            "_model_name": "LayoutModel",
            "justify_items": null,
            "grid_row": null,
            "max_height": null,
            "align_content": null,
            "visibility": null,
            "align_self": null,
            "height": null,
            "min_height": null,
            "padding": null,
            "grid_auto_rows": null,
            "grid_gap": null,
            "max_width": null,
            "order": null,
            "_view_module_version": "1.2.0",
            "grid_template_areas": null,
            "object_position": null,
            "object_fit": null,
            "grid_auto_columns": null,
            "margin": null,
            "display": null,
            "left": null
          }
        },
        "e0b92ea135184288841d24c792d4ba4a": {
          "model_module": "@jupyter-widgets/controls",
          "model_name": "HBoxModel",
          "state": {
            "_view_name": "HBoxView",
            "_dom_classes": [],
            "_model_name": "HBoxModel",
            "_view_module": "@jupyter-widgets/controls",
            "_model_module_version": "1.5.0",
            "_view_count": null,
            "_view_module_version": "1.5.0",
            "box_style": "",
            "layout": "IPY_MODEL_1ac8d02470d94334b9e061589c8e8eba",
            "_model_module": "@jupyter-widgets/controls",
            "children": [
              "IPY_MODEL_8b1e503e93e944eb9ee99159deedb792",
              "IPY_MODEL_ed27d2efba78410d8409aa05d6a83fdb"
            ]
          }
        },
        "1ac8d02470d94334b9e061589c8e8eba": {
          "model_module": "@jupyter-widgets/base",
          "model_name": "LayoutModel",
          "state": {
            "_view_name": "LayoutView",
            "grid_template_rows": null,
            "right": null,
            "justify_content": null,
            "_view_module": "@jupyter-widgets/base",
            "overflow": null,
            "_model_module_version": "1.2.0",
            "_view_count": null,
            "flex_flow": null,
            "width": null,
            "min_width": null,
            "border": null,
            "align_items": null,
            "bottom": null,
            "_model_module": "@jupyter-widgets/base",
            "top": null,
            "grid_column": null,
            "overflow_y": null,
            "overflow_x": null,
            "grid_auto_flow": null,
            "grid_area": null,
            "grid_template_columns": null,
            "flex": null,
            "_model_name": "LayoutModel",
            "justify_items": null,
            "grid_row": null,
            "max_height": null,
            "align_content": null,
            "visibility": null,
            "align_self": null,
            "height": null,
            "min_height": null,
            "padding": null,
            "grid_auto_rows": null,
            "grid_gap": null,
            "max_width": null,
            "order": null,
            "_view_module_version": "1.2.0",
            "grid_template_areas": null,
            "object_position": null,
            "object_fit": null,
            "grid_auto_columns": null,
            "margin": null,
            "display": null,
            "left": null
          }
        },
        "8b1e503e93e944eb9ee99159deedb792": {
          "model_module": "@jupyter-widgets/controls",
          "model_name": "FloatProgressModel",
          "state": {
            "_view_name": "ProgressView",
            "style": "IPY_MODEL_f0a62b96a1e745a2a4365303668409a5",
            "_dom_classes": [],
            "description": "Downloading: 100%",
            "_model_name": "FloatProgressModel",
            "bar_style": "success",
            "max": 81,
            "_view_module": "@jupyter-widgets/controls",
            "_model_module_version": "1.5.0",
            "value": 81,
            "_view_count": null,
            "_view_module_version": "1.5.0",
            "orientation": "horizontal",
            "min": 0,
            "description_tooltip": null,
            "_model_module": "@jupyter-widgets/controls",
            "layout": "IPY_MODEL_4f93f8d7123446519bc680b8f3e53daf"
          }
        },
        "ed27d2efba78410d8409aa05d6a83fdb": {
          "model_module": "@jupyter-widgets/controls",
          "model_name": "HTMLModel",
          "state": {
            "_view_name": "HTMLView",
            "style": "IPY_MODEL_e140ad63425c4538b04fac3d72773a8a",
            "_dom_classes": [],
            "description": "",
            "_model_name": "HTMLModel",
            "placeholder": "​",
            "_view_module": "@jupyter-widgets/controls",
            "_model_module_version": "1.5.0",
            "value": " 81.0/81.0 [00:00&lt;00:00, 173B/s]",
            "_view_count": null,
            "_view_module_version": "1.5.0",
            "description_tooltip": null,
            "_model_module": "@jupyter-widgets/controls",
            "layout": "IPY_MODEL_281be980b81540e58bb0e8f59ea2c8d1"
          }
        },
        "f0a62b96a1e745a2a4365303668409a5": {
          "model_module": "@jupyter-widgets/controls",
          "model_name": "ProgressStyleModel",
          "state": {
            "_view_name": "StyleView",
            "_model_name": "ProgressStyleModel",
            "description_width": "initial",
            "_view_module": "@jupyter-widgets/base",
            "_model_module_version": "1.5.0",
            "_view_count": null,
            "_view_module_version": "1.2.0",
            "bar_color": null,
            "_model_module": "@jupyter-widgets/controls"
          }
        },
        "4f93f8d7123446519bc680b8f3e53daf": {
          "model_module": "@jupyter-widgets/base",
          "model_name": "LayoutModel",
          "state": {
            "_view_name": "LayoutView",
            "grid_template_rows": null,
            "right": null,
            "justify_content": null,
            "_view_module": "@jupyter-widgets/base",
            "overflow": null,
            "_model_module_version": "1.2.0",
            "_view_count": null,
            "flex_flow": null,
            "width": null,
            "min_width": null,
            "border": null,
            "align_items": null,
            "bottom": null,
            "_model_module": "@jupyter-widgets/base",
            "top": null,
            "grid_column": null,
            "overflow_y": null,
            "overflow_x": null,
            "grid_auto_flow": null,
            "grid_area": null,
            "grid_template_columns": null,
            "flex": null,
            "_model_name": "LayoutModel",
            "justify_items": null,
            "grid_row": null,
            "max_height": null,
            "align_content": null,
            "visibility": null,
            "align_self": null,
            "height": null,
            "min_height": null,
            "padding": null,
            "grid_auto_rows": null,
            "grid_gap": null,
            "max_width": null,
            "order": null,
            "_view_module_version": "1.2.0",
            "grid_template_areas": null,
            "object_position": null,
            "object_fit": null,
            "grid_auto_columns": null,
            "margin": null,
            "display": null,
            "left": null
          }
        },
        "e140ad63425c4538b04fac3d72773a8a": {
          "model_module": "@jupyter-widgets/controls",
          "model_name": "DescriptionStyleModel",
          "state": {
            "_view_name": "StyleView",
            "_model_name": "DescriptionStyleModel",
            "description_width": "",
            "_view_module": "@jupyter-widgets/base",
            "_model_module_version": "1.5.0",
            "_view_count": null,
            "_view_module_version": "1.2.0",
            "_model_module": "@jupyter-widgets/controls"
          }
        },
        "281be980b81540e58bb0e8f59ea2c8d1": {
          "model_module": "@jupyter-widgets/base",
          "model_name": "LayoutModel",
          "state": {
            "_view_name": "LayoutView",
            "grid_template_rows": null,
            "right": null,
            "justify_content": null,
            "_view_module": "@jupyter-widgets/base",
            "overflow": null,
            "_model_module_version": "1.2.0",
            "_view_count": null,
            "flex_flow": null,
            "width": null,
            "min_width": null,
            "border": null,
            "align_items": null,
            "bottom": null,
            "_model_module": "@jupyter-widgets/base",
            "top": null,
            "grid_column": null,
            "overflow_y": null,
            "overflow_x": null,
            "grid_auto_flow": null,
            "grid_area": null,
            "grid_template_columns": null,
            "flex": null,
            "_model_name": "LayoutModel",
            "justify_items": null,
            "grid_row": null,
            "max_height": null,
            "align_content": null,
            "visibility": null,
            "align_self": null,
            "height": null,
            "min_height": null,
            "padding": null,
            "grid_auto_rows": null,
            "grid_gap": null,
            "max_width": null,
            "order": null,
            "_view_module_version": "1.2.0",
            "grid_template_areas": null,
            "object_position": null,
            "object_fit": null,
            "grid_auto_columns": null,
            "margin": null,
            "display": null,
            "left": null
          }
        },
        "a215080391ff4012b7946f039adc147c": {
          "model_module": "@jupyter-widgets/controls",
          "model_name": "HBoxModel",
          "state": {
            "_view_name": "HBoxView",
            "_dom_classes": [],
            "_model_name": "HBoxModel",
            "_view_module": "@jupyter-widgets/controls",
            "_model_module_version": "1.5.0",
            "_view_count": null,
            "_view_module_version": "1.5.0",
            "box_style": "",
            "layout": "IPY_MODEL_a60255eb395f470d911535d08051ea7f",
            "_model_module": "@jupyter-widgets/controls",
            "children": [
              "IPY_MODEL_b7b7db50b0a34cb9aab428c312145437",
              "IPY_MODEL_6206b2ffc41341b2a50bfc199a7e1037"
            ]
          }
        },
        "a60255eb395f470d911535d08051ea7f": {
          "model_module": "@jupyter-widgets/base",
          "model_name": "LayoutModel",
          "state": {
            "_view_name": "LayoutView",
            "grid_template_rows": null,
            "right": null,
            "justify_content": null,
            "_view_module": "@jupyter-widgets/base",
            "overflow": null,
            "_model_module_version": "1.2.0",
            "_view_count": null,
            "flex_flow": null,
            "width": null,
            "min_width": null,
            "border": null,
            "align_items": null,
            "bottom": null,
            "_model_module": "@jupyter-widgets/base",
            "top": null,
            "grid_column": null,
            "overflow_y": null,
            "overflow_x": null,
            "grid_auto_flow": null,
            "grid_area": null,
            "grid_template_columns": null,
            "flex": null,
            "_model_name": "LayoutModel",
            "justify_items": null,
            "grid_row": null,
            "max_height": null,
            "align_content": null,
            "visibility": null,
            "align_self": null,
            "height": null,
            "min_height": null,
            "padding": null,
            "grid_auto_rows": null,
            "grid_gap": null,
            "max_width": null,
            "order": null,
            "_view_module_version": "1.2.0",
            "grid_template_areas": null,
            "object_position": null,
            "object_fit": null,
            "grid_auto_columns": null,
            "margin": null,
            "display": null,
            "left": null
          }
        },
        "b7b7db50b0a34cb9aab428c312145437": {
          "model_module": "@jupyter-widgets/controls",
          "model_name": "FloatProgressModel",
          "state": {
            "_view_name": "ProgressView",
            "style": "IPY_MODEL_8ea9b941a731431488071632f418bf34",
            "_dom_classes": [],
            "description": "Downloading: 100%",
            "_model_name": "FloatProgressModel",
            "bar_style": "success",
            "max": 112,
            "_view_module": "@jupyter-widgets/controls",
            "_model_module_version": "1.5.0",
            "value": 112,
            "_view_count": null,
            "_view_module_version": "1.5.0",
            "orientation": "horizontal",
            "min": 0,
            "description_tooltip": null,
            "_model_module": "@jupyter-widgets/controls",
            "layout": "IPY_MODEL_03ef7140007a4fcf92781afdf8f08dd1"
          }
        },
        "6206b2ffc41341b2a50bfc199a7e1037": {
          "model_module": "@jupyter-widgets/controls",
          "model_name": "HTMLModel",
          "state": {
            "_view_name": "HTMLView",
            "style": "IPY_MODEL_00ab088cecf04d59a06f31fcc59b9202",
            "_dom_classes": [],
            "description": "",
            "_model_name": "HTMLModel",
            "placeholder": "​",
            "_view_module": "@jupyter-widgets/controls",
            "_model_module_version": "1.5.0",
            "value": " 112/112 [00:36&lt;00:00, 3.08B/s]",
            "_view_count": null,
            "_view_module_version": "1.5.0",
            "description_tooltip": null,
            "_model_module": "@jupyter-widgets/controls",
            "layout": "IPY_MODEL_85058fca25674eb89d76984d2b4fca72"
          }
        },
        "8ea9b941a731431488071632f418bf34": {
          "model_module": "@jupyter-widgets/controls",
          "model_name": "ProgressStyleModel",
          "state": {
            "_view_name": "StyleView",
            "_model_name": "ProgressStyleModel",
            "description_width": "initial",
            "_view_module": "@jupyter-widgets/base",
            "_model_module_version": "1.5.0",
            "_view_count": null,
            "_view_module_version": "1.2.0",
            "bar_color": null,
            "_model_module": "@jupyter-widgets/controls"
          }
        },
        "03ef7140007a4fcf92781afdf8f08dd1": {
          "model_module": "@jupyter-widgets/base",
          "model_name": "LayoutModel",
          "state": {
            "_view_name": "LayoutView",
            "grid_template_rows": null,
            "right": null,
            "justify_content": null,
            "_view_module": "@jupyter-widgets/base",
            "overflow": null,
            "_model_module_version": "1.2.0",
            "_view_count": null,
            "flex_flow": null,
            "width": null,
            "min_width": null,
            "border": null,
            "align_items": null,
            "bottom": null,
            "_model_module": "@jupyter-widgets/base",
            "top": null,
            "grid_column": null,
            "overflow_y": null,
            "overflow_x": null,
            "grid_auto_flow": null,
            "grid_area": null,
            "grid_template_columns": null,
            "flex": null,
            "_model_name": "LayoutModel",
            "justify_items": null,
            "grid_row": null,
            "max_height": null,
            "align_content": null,
            "visibility": null,
            "align_self": null,
            "height": null,
            "min_height": null,
            "padding": null,
            "grid_auto_rows": null,
            "grid_gap": null,
            "max_width": null,
            "order": null,
            "_view_module_version": "1.2.0",
            "grid_template_areas": null,
            "object_position": null,
            "object_fit": null,
            "grid_auto_columns": null,
            "margin": null,
            "display": null,
            "left": null
          }
        },
        "00ab088cecf04d59a06f31fcc59b9202": {
          "model_module": "@jupyter-widgets/controls",
          "model_name": "DescriptionStyleModel",
          "state": {
            "_view_name": "StyleView",
            "_model_name": "DescriptionStyleModel",
            "description_width": "",
            "_view_module": "@jupyter-widgets/base",
            "_model_module_version": "1.5.0",
            "_view_count": null,
            "_view_module_version": "1.2.0",
            "_model_module": "@jupyter-widgets/controls"
          }
        },
        "85058fca25674eb89d76984d2b4fca72": {
          "model_module": "@jupyter-widgets/base",
          "model_name": "LayoutModel",
          "state": {
            "_view_name": "LayoutView",
            "grid_template_rows": null,
            "right": null,
            "justify_content": null,
            "_view_module": "@jupyter-widgets/base",
            "overflow": null,
            "_model_module_version": "1.2.0",
            "_view_count": null,
            "flex_flow": null,
            "width": null,
            "min_width": null,
            "border": null,
            "align_items": null,
            "bottom": null,
            "_model_module": "@jupyter-widgets/base",
            "top": null,
            "grid_column": null,
            "overflow_y": null,
            "overflow_x": null,
            "grid_auto_flow": null,
            "grid_area": null,
            "grid_template_columns": null,
            "flex": null,
            "_model_name": "LayoutModel",
            "justify_items": null,
            "grid_row": null,
            "max_height": null,
            "align_content": null,
            "visibility": null,
            "align_self": null,
            "height": null,
            "min_height": null,
            "padding": null,
            "grid_auto_rows": null,
            "grid_gap": null,
            "max_width": null,
            "order": null,
            "_view_module_version": "1.2.0",
            "grid_template_areas": null,
            "object_position": null,
            "object_fit": null,
            "grid_auto_columns": null,
            "margin": null,
            "display": null,
            "left": null
          }
        },
        "54e5c533aabb41a488915ca096822eac": {
          "model_module": "@jupyter-widgets/controls",
          "model_name": "HBoxModel",
          "state": {
            "_view_name": "HBoxView",
            "_dom_classes": [],
            "_model_name": "HBoxModel",
            "_view_module": "@jupyter-widgets/controls",
            "_model_module_version": "1.5.0",
            "_view_count": null,
            "_view_module_version": "1.5.0",
            "box_style": "",
            "layout": "IPY_MODEL_2fb65e46f7034b5385f3f05babda333d",
            "_model_module": "@jupyter-widgets/controls",
            "children": [
              "IPY_MODEL_121e8a86cce34ddbafc912a9314ea803",
              "IPY_MODEL_d68765ced59c4323aa84e96c4ef44bcc"
            ]
          }
        },
        "2fb65e46f7034b5385f3f05babda333d": {
          "model_module": "@jupyter-widgets/base",
          "model_name": "LayoutModel",
          "state": {
            "_view_name": "LayoutView",
            "grid_template_rows": null,
            "right": null,
            "justify_content": null,
            "_view_module": "@jupyter-widgets/base",
            "overflow": null,
            "_model_module_version": "1.2.0",
            "_view_count": null,
            "flex_flow": null,
            "width": null,
            "min_width": null,
            "border": null,
            "align_items": null,
            "bottom": null,
            "_model_module": "@jupyter-widgets/base",
            "top": null,
            "grid_column": null,
            "overflow_y": null,
            "overflow_x": null,
            "grid_auto_flow": null,
            "grid_area": null,
            "grid_template_columns": null,
            "flex": null,
            "_model_name": "LayoutModel",
            "justify_items": null,
            "grid_row": null,
            "max_height": null,
            "align_content": null,
            "visibility": null,
            "align_self": null,
            "height": null,
            "min_height": null,
            "padding": null,
            "grid_auto_rows": null,
            "grid_gap": null,
            "max_width": null,
            "order": null,
            "_view_module_version": "1.2.0",
            "grid_template_areas": null,
            "object_position": null,
            "object_fit": null,
            "grid_auto_columns": null,
            "margin": null,
            "display": null,
            "left": null
          }
        },
        "121e8a86cce34ddbafc912a9314ea803": {
          "model_module": "@jupyter-widgets/controls",
          "model_name": "FloatProgressModel",
          "state": {
            "_view_name": "ProgressView",
            "style": "IPY_MODEL_fa2c0a3acf9144fbb21c0afe64b82848",
            "_dom_classes": [],
            "description": "Downloading: 100%",
            "_model_name": "FloatProgressModel",
            "bar_style": "success",
            "max": 86,
            "_view_module": "@jupyter-widgets/controls",
            "_model_module_version": "1.5.0",
            "value": 86,
            "_view_count": null,
            "_view_module_version": "1.5.0",
            "orientation": "horizontal",
            "min": 0,
            "description_tooltip": null,
            "_model_module": "@jupyter-widgets/controls",
            "layout": "IPY_MODEL_8e8ed99388c1433a89b214b47cb934bf"
          }
        },
        "d68765ced59c4323aa84e96c4ef44bcc": {
          "model_module": "@jupyter-widgets/controls",
          "model_name": "HTMLModel",
          "state": {
            "_view_name": "HTMLView",
            "style": "IPY_MODEL_f9f4e91fd57344ef855587bd19ed8fbe",
            "_dom_classes": [],
            "description": "",
            "_model_name": "HTMLModel",
            "placeholder": "​",
            "_view_module": "@jupyter-widgets/controls",
            "_model_module_version": "1.5.0",
            "value": " 86.0/86.0 [00:35&lt;00:00, 2.40B/s]",
            "_view_count": null,
            "_view_module_version": "1.5.0",
            "description_tooltip": null,
            "_model_module": "@jupyter-widgets/controls",
            "layout": "IPY_MODEL_d30e93b0214749028d4cc835d1ec4fe5"
          }
        },
        "fa2c0a3acf9144fbb21c0afe64b82848": {
          "model_module": "@jupyter-widgets/controls",
          "model_name": "ProgressStyleModel",
          "state": {
            "_view_name": "StyleView",
            "_model_name": "ProgressStyleModel",
            "description_width": "initial",
            "_view_module": "@jupyter-widgets/base",
            "_model_module_version": "1.5.0",
            "_view_count": null,
            "_view_module_version": "1.2.0",
            "bar_color": null,
            "_model_module": "@jupyter-widgets/controls"
          }
        },
        "8e8ed99388c1433a89b214b47cb934bf": {
          "model_module": "@jupyter-widgets/base",
          "model_name": "LayoutModel",
          "state": {
            "_view_name": "LayoutView",
            "grid_template_rows": null,
            "right": null,
            "justify_content": null,
            "_view_module": "@jupyter-widgets/base",
            "overflow": null,
            "_model_module_version": "1.2.0",
            "_view_count": null,
            "flex_flow": null,
            "width": null,
            "min_width": null,
            "border": null,
            "align_items": null,
            "bottom": null,
            "_model_module": "@jupyter-widgets/base",
            "top": null,
            "grid_column": null,
            "overflow_y": null,
            "overflow_x": null,
            "grid_auto_flow": null,
            "grid_area": null,
            "grid_template_columns": null,
            "flex": null,
            "_model_name": "LayoutModel",
            "justify_items": null,
            "grid_row": null,
            "max_height": null,
            "align_content": null,
            "visibility": null,
            "align_self": null,
            "height": null,
            "min_height": null,
            "padding": null,
            "grid_auto_rows": null,
            "grid_gap": null,
            "max_width": null,
            "order": null,
            "_view_module_version": "1.2.0",
            "grid_template_areas": null,
            "object_position": null,
            "object_fit": null,
            "grid_auto_columns": null,
            "margin": null,
            "display": null,
            "left": null
          }
        },
        "f9f4e91fd57344ef855587bd19ed8fbe": {
          "model_module": "@jupyter-widgets/controls",
          "model_name": "DescriptionStyleModel",
          "state": {
            "_view_name": "StyleView",
            "_model_name": "DescriptionStyleModel",
            "description_width": "",
            "_view_module": "@jupyter-widgets/base",
            "_model_module_version": "1.5.0",
            "_view_count": null,
            "_view_module_version": "1.2.0",
            "_model_module": "@jupyter-widgets/controls"
          }
        },
        "d30e93b0214749028d4cc835d1ec4fe5": {
          "model_module": "@jupyter-widgets/base",
          "model_name": "LayoutModel",
          "state": {
            "_view_name": "LayoutView",
            "grid_template_rows": null,
            "right": null,
            "justify_content": null,
            "_view_module": "@jupyter-widgets/base",
            "overflow": null,
            "_model_module_version": "1.2.0",
            "_view_count": null,
            "flex_flow": null,
            "width": null,
            "min_width": null,
            "border": null,
            "align_items": null,
            "bottom": null,
            "_model_module": "@jupyter-widgets/base",
            "top": null,
            "grid_column": null,
            "overflow_y": null,
            "overflow_x": null,
            "grid_auto_flow": null,
            "grid_area": null,
            "grid_template_columns": null,
            "flex": null,
            "_model_name": "LayoutModel",
            "justify_items": null,
            "grid_row": null,
            "max_height": null,
            "align_content": null,
            "visibility": null,
            "align_self": null,
            "height": null,
            "min_height": null,
            "padding": null,
            "grid_auto_rows": null,
            "grid_gap": null,
            "max_width": null,
            "order": null,
            "_view_module_version": "1.2.0",
            "grid_template_areas": null,
            "object_position": null,
            "object_fit": null,
            "grid_auto_columns": null,
            "margin": null,
            "display": null,
            "left": null
          }
        }
      }
    }
  },
  "cells": [
    {
      "cell_type": "markdown",
      "metadata": {
        "id": "qDaEDFNd9t6P"
      },
      "source": [
        "## Armin Behjati\n",
        "\n",
        "### Predict secondary structure 3 states using transformers (Q3)"
      ]
    },
    {
      "cell_type": "code",
      "metadata": {
        "id": "P7tTzo_VjNWX",
        "colab": {
          "base_uri": "https://localhost:8080/"
        },
        "outputId": "7a568d97-f12f-416d-b8b6-109335ef176a"
      },
      "source": [
        "!pip install -q transformers"
      ],
      "execution_count": null,
      "outputs": [
        {
          "output_type": "stream",
          "text": [
            "\u001b[K     |████████████████████████████████| 1.3MB 6.9MB/s \n",
            "\u001b[K     |████████████████████████████████| 1.1MB 17.3MB/s \n",
            "\u001b[K     |████████████████████████████████| 890kB 27.7MB/s \n",
            "\u001b[K     |████████████████████████████████| 2.9MB 34.1MB/s \n",
            "\u001b[?25h  Building wheel for sacremoses (setup.py) ... \u001b[?25l\u001b[?25hdone\n"
          ],
          "name": "stdout"
        }
      ]
    },
    {
      "cell_type": "code",
      "metadata": {
        "id": "DzGbyjvbjdIs"
      },
      "source": [
        "from transformers import AutoTokenizer, AutoModelForTokenClassification, TokenClassificationPipeline\n",
        "import re"
      ],
      "execution_count": null,
      "outputs": []
    },
    {
      "cell_type": "markdown",
      "metadata": {
        "id": "Z42szJu0-HAl"
      },
      "source": [
        "### Loading the model"
      ]
    },
    {
      "cell_type": "code",
      "metadata": {
        "id": "8iLP7fi4mJA_",
        "colab": {
          "base_uri": "https://localhost:8080/",
          "height": 264,
          "referenced_widgets": [
            "3d6dfa9857f74598a02eb5456be65328",
            "c9f103b5c21d4518aa54361d80e2c237",
            "22a6a44d182e47be97d4908144bc7e47",
            "05980601a9ff48d9a48da7be8b5cf291",
            "1a5b83e729d6469e92d9875346cf1839",
            "5a07a7d2e80f478eb7211a132c39c3a0",
            "8ca73830dd2f42909ea2b776378def09",
            "eed7821f99a94cf6a048d34f9a0e5fda",
            "87b4d585c053417ebedea66ab38c5696",
            "928913b5259543f193d72270351cdd00",
            "a4721bc19fbc4afcb6cb073a044a45af",
            "e791e3618b824ef897c09588db68591b",
            "5acc38c51ca34465814843f31c3ce645",
            "8de92cf63dd54b83a65ce158e99beaec",
            "86fc47091ef14738825bdb5e9b57d09a",
            "15ada3856b8e416a8d09fc85b7ef89c1",
            "e0b92ea135184288841d24c792d4ba4a",
            "1ac8d02470d94334b9e061589c8e8eba",
            "8b1e503e93e944eb9ee99159deedb792",
            "ed27d2efba78410d8409aa05d6a83fdb",
            "f0a62b96a1e745a2a4365303668409a5",
            "4f93f8d7123446519bc680b8f3e53daf",
            "e140ad63425c4538b04fac3d72773a8a",
            "281be980b81540e58bb0e8f59ea2c8d1",
            "a215080391ff4012b7946f039adc147c",
            "a60255eb395f470d911535d08051ea7f",
            "b7b7db50b0a34cb9aab428c312145437",
            "6206b2ffc41341b2a50bfc199a7e1037",
            "8ea9b941a731431488071632f418bf34",
            "03ef7140007a4fcf92781afdf8f08dd1",
            "00ab088cecf04d59a06f31fcc59b9202",
            "85058fca25674eb89d76984d2b4fca72",
            "54e5c533aabb41a488915ca096822eac",
            "2fb65e46f7034b5385f3f05babda333d",
            "121e8a86cce34ddbafc912a9314ea803",
            "d68765ced59c4323aa84e96c4ef44bcc",
            "fa2c0a3acf9144fbb21c0afe64b82848",
            "8e8ed99388c1433a89b214b47cb934bf",
            "f9f4e91fd57344ef855587bd19ed8fbe",
            "d30e93b0214749028d4cc835d1ec4fe5"
          ]
        },
        "outputId": "be936468-d546-471d-b218-b512fff12d5f"
      },
      "source": [
        "pipeline = TokenClassificationPipeline(\n",
        "    model=AutoModelForTokenClassification.from_pretrained(\"Rostlab/prot_bert_bfd_ss3\"),\n",
        "    tokenizer=AutoTokenizer.from_pretrained(\"Rostlab/prot_bert_bfd_ss3\", skip_special_tokens=True),\n",
        "    device=0\n",
        ")"
      ],
      "execution_count": null,
      "outputs": [
        {
          "output_type": "display_data",
          "data": {
            "application/vnd.jupyter.widget-view+json": {
              "model_id": "3d6dfa9857f74598a02eb5456be65328",
              "version_minor": 0,
              "version_major": 2
            },
            "text/plain": [
              "HBox(children=(FloatProgress(value=0.0, description='Downloading', max=632.0, style=ProgressStyle(description_…"
            ]
          },
          "metadata": {
            "tags": []
          }
        },
        {
          "output_type": "stream",
          "text": [
            "\n"
          ],
          "name": "stdout"
        },
        {
          "output_type": "display_data",
          "data": {
            "application/vnd.jupyter.widget-view+json": {
              "model_id": "87b4d585c053417ebedea66ab38c5696",
              "version_minor": 0,
              "version_major": 2
            },
            "text/plain": [
              "HBox(children=(FloatProgress(value=0.0, description='Downloading', max=1676061559.0, style=ProgressStyle(descr…"
            ]
          },
          "metadata": {
            "tags": []
          }
        },
        {
          "output_type": "stream",
          "text": [
            "\n"
          ],
          "name": "stdout"
        },
        {
          "output_type": "display_data",
          "data": {
            "application/vnd.jupyter.widget-view+json": {
              "model_id": "e0b92ea135184288841d24c792d4ba4a",
              "version_minor": 0,
              "version_major": 2
            },
            "text/plain": [
              "HBox(children=(FloatProgress(value=0.0, description='Downloading', max=81.0, style=ProgressStyle(description_w…"
            ]
          },
          "metadata": {
            "tags": []
          }
        },
        {
          "output_type": "stream",
          "text": [
            "\n"
          ],
          "name": "stdout"
        },
        {
          "output_type": "display_data",
          "data": {
            "application/vnd.jupyter.widget-view+json": {
              "model_id": "a215080391ff4012b7946f039adc147c",
              "version_minor": 0,
              "version_major": 2
            },
            "text/plain": [
              "HBox(children=(FloatProgress(value=0.0, description='Downloading', max=112.0, style=ProgressStyle(description_…"
            ]
          },
          "metadata": {
            "tags": []
          }
        },
        {
          "output_type": "stream",
          "text": [
            "\n"
          ],
          "name": "stdout"
        },
        {
          "output_type": "display_data",
          "data": {
            "application/vnd.jupyter.widget-view+json": {
              "model_id": "54e5c533aabb41a488915ca096822eac",
              "version_minor": 0,
              "version_major": 2
            },
            "text/plain": [
              "HBox(children=(FloatProgress(value=0.0, description='Downloading', max=86.0, style=ProgressStyle(description_w…"
            ]
          },
          "metadata": {
            "tags": []
          }
        },
        {
          "output_type": "stream",
          "text": [
            "\n"
          ],
          "name": "stdout"
        }
      ]
    },
    {
      "cell_type": "markdown",
      "metadata": {
        "id": "r812U7GwnSXF"
      },
      "source": [
        "**3. Create or load sequences and map rarely occured amino acids (U,Z,O,B) to (X)**"
      ]
    },
    {
      "cell_type": "code",
      "metadata": {
        "id": "uOaEESGWkXJu"
      },
      "source": [
        "sequences_Example = [\"M G A E E E D T A I L Y P F T I S G N D R N G N F T I N F K G T P N S T N N G C I G Y S Y N G D W E K I E W E G S C D G N G N L V V E V P M S K I P A G V T S G E I Q I W W H S G D L K M T D Y K A L E H H H H H H\"]"
      ],
      "execution_count": null,
      "outputs": []
    },
    {
      "cell_type": "code",
      "metadata": {
        "id": "OkZLVmYRkZ6k"
      },
      "source": [
        "sequences_Example = [re.sub(r\"[UZOB]\", \"X\", sequence) for sequence in sequences_Example]"
      ],
      "execution_count": null,
      "outputs": []
    },
    {
      "cell_type": "markdown",
      "metadata": {
        "id": "z-aGAcDhnZKF"
      },
      "source": [
        "**4. Make Prediction**"
      ]
    },
    {
      "cell_type": "code",
      "metadata": {
        "id": "noEGrN0hkbJ6",
        "colab": {
          "base_uri": "https://localhost:8080/"
        },
        "outputId": "b0d45db7-c4d5-45ac-879c-4ee06e336a90"
      },
      "source": [
        "pipeline(sequences_Example)\n"
      ],
      "execution_count": null,
      "outputs": [
        {
          "output_type": "execute_result",
          "data": {
            "text/plain": [
              "[{'entity': 'C', 'index': 1, 'score': 0.9825783967971802, 'word': 'M'},\n",
              " {'entity': 'C', 'index': 2, 'score': 0.9821619987487793, 'word': 'G'},\n",
              " {'entity': 'C', 'index': 3, 'score': 0.9820826649665833, 'word': 'A'},\n",
              " {'entity': 'C', 'index': 4, 'score': 0.9775913953781128, 'word': 'E'},\n",
              " {'entity': 'C', 'index': 5, 'score': 0.9576712250709534, 'word': 'E'},\n",
              " {'entity': 'C', 'index': 6, 'score': 0.9473991394042969, 'word': 'E'},\n",
              " {'entity': 'C', 'index': 7, 'score': 0.9294621348381042, 'word': 'D'},\n",
              " {'entity': 'C', 'index': 8, 'score': 0.8236597776412964, 'word': 'T'},\n",
              " {'entity': 'C', 'index': 9, 'score': 0.6788775324821472, 'word': 'A'},\n",
              " {'entity': 'E', 'index': 10, 'score': 0.5218979120254517, 'word': 'I'},\n",
              " {'entity': 'E', 'index': 11, 'score': 0.49885109066963196, 'word': 'L'},\n",
              " {'entity': 'C', 'index': 12, 'score': 0.6156849265098572, 'word': 'Y'},\n",
              " {'entity': 'C', 'index': 13, 'score': 0.8186449408531189, 'word': 'P'},\n",
              " {'entity': 'E', 'index': 14, 'score': 0.5554059147834778, 'word': 'F'},\n",
              " {'entity': 'E', 'index': 15, 'score': 0.8122755885124207, 'word': 'T'},\n",
              " {'entity': 'E', 'index': 16, 'score': 0.7937909960746765, 'word': 'I'},\n",
              " {'entity': 'E', 'index': 17, 'score': 0.723102331161499, 'word': 'S'},\n",
              " {'entity': 'C', 'index': 18, 'score': 0.6503527760505676, 'word': 'G'},\n",
              " {'entity': 'C', 'index': 19, 'score': 0.7715064287185669, 'word': 'N'},\n",
              " {'entity': 'C', 'index': 20, 'score': 0.803371250629425, 'word': 'D'},\n",
              " {'entity': 'C', 'index': 21, 'score': 0.7770872116088867, 'word': 'R'},\n",
              " {'entity': 'C', 'index': 22, 'score': 0.8023957014083862, 'word': 'N'},\n",
              " {'entity': 'C', 'index': 23, 'score': 0.7879791855812073, 'word': 'G'},\n",
              " {'entity': 'C', 'index': 24, 'score': 0.49570196866989136, 'word': 'N'},\n",
              " {'entity': 'E', 'index': 25, 'score': 0.9436848163604736, 'word': 'F'},\n",
              " {'entity': 'E', 'index': 26, 'score': 0.9778523445129395, 'word': 'T'},\n",
              " {'entity': 'E', 'index': 27, 'score': 0.98161381483078, 'word': 'I'},\n",
              " {'entity': 'E', 'index': 28, 'score': 0.9762471914291382, 'word': 'N'},\n",
              " {'entity': 'E', 'index': 29, 'score': 0.9682338833808899, 'word': 'F'},\n",
              " {'entity': 'E', 'index': 30, 'score': 0.9389749765396118, 'word': 'K'},\n",
              " {'entity': 'E', 'index': 31, 'score': 0.7286836504936218, 'word': 'G'},\n",
              " {'entity': 'C', 'index': 32, 'score': 0.8951723575592041, 'word': 'T'},\n",
              " {'entity': 'C', 'index': 33, 'score': 0.9763287305831909, 'word': 'P'},\n",
              " {'entity': 'C', 'index': 34, 'score': 0.9800408482551575, 'word': 'N'},\n",
              " {'entity': 'C', 'index': 35, 'score': 0.9183552861213684, 'word': 'S'},\n",
              " {'entity': 'C', 'index': 36, 'score': 0.8355351090431213, 'word': 'T'},\n",
              " {'entity': 'C', 'index': 37, 'score': 0.5106058716773987, 'word': 'N'},\n",
              " {'entity': 'E', 'index': 38, 'score': 0.6784937381744385, 'word': 'N'},\n",
              " {'entity': 'E', 'index': 39, 'score': 0.8746450543403625, 'word': 'G'},\n",
              " {'entity': 'E', 'index': 40, 'score': 0.9686552286148071, 'word': 'C'},\n",
              " {'entity': 'E', 'index': 41, 'score': 0.9793420433998108, 'word': 'I'},\n",
              " {'entity': 'E', 'index': 42, 'score': 0.9796486496925354, 'word': 'G'},\n",
              " {'entity': 'E', 'index': 43, 'score': 0.9776298403739929, 'word': 'Y'},\n",
              " {'entity': 'E', 'index': 44, 'score': 0.9550044536590576, 'word': 'S'},\n",
              " {'entity': 'E', 'index': 45, 'score': 0.7518438696861267, 'word': 'Y'},\n",
              " {'entity': 'C', 'index': 46, 'score': 0.9574703574180603, 'word': 'N'},\n",
              " {'entity': 'C', 'index': 47, 'score': 0.9733911752700806, 'word': 'G'},\n",
              " {'entity': 'C', 'index': 48, 'score': 0.6702666878700256, 'word': 'D'},\n",
              " {'entity': 'C', 'index': 49, 'score': 0.5031896829605103, 'word': 'W'},\n",
              " {'entity': 'E', 'index': 50, 'score': 0.7779450416564941, 'word': 'E'},\n",
              " {'entity': 'E', 'index': 51, 'score': 0.9180283546447754, 'word': 'K'},\n",
              " {'entity': 'E', 'index': 52, 'score': 0.879421591758728, 'word': 'I'},\n",
              " {'entity': 'E', 'index': 53, 'score': 0.8585033416748047, 'word': 'E'},\n",
              " {'entity': 'E', 'index': 54, 'score': 0.7652689814567566, 'word': 'W'},\n",
              " {'entity': 'E', 'index': 55, 'score': 0.8097646832466125, 'word': 'E'},\n",
              " {'entity': 'E', 'index': 56, 'score': 0.809432327747345, 'word': 'G'},\n",
              " {'entity': 'E', 'index': 57, 'score': 0.8272846341133118, 'word': 'S'},\n",
              " {'entity': 'E', 'index': 58, 'score': 0.670985996723175, 'word': 'C'},\n",
              " {'entity': 'C', 'index': 59, 'score': 0.8946219086647034, 'word': 'D'},\n",
              " {'entity': 'C', 'index': 60, 'score': 0.961014986038208, 'word': 'G'},\n",
              " {'entity': 'C', 'index': 61, 'score': 0.9501035809516907, 'word': 'N'},\n",
              " {'entity': 'C', 'index': 62, 'score': 0.822770893573761, 'word': 'G'},\n",
              " {'entity': 'E', 'index': 63, 'score': 0.7492087483406067, 'word': 'N'},\n",
              " {'entity': 'E', 'index': 64, 'score': 0.9715275764465332, 'word': 'L'},\n",
              " {'entity': 'E', 'index': 65, 'score': 0.9779617190361023, 'word': 'V'},\n",
              " {'entity': 'E', 'index': 66, 'score': 0.9798573851585388, 'word': 'V'},\n",
              " {'entity': 'E', 'index': 67, 'score': 0.9682972431182861, 'word': 'E'},\n",
              " {'entity': 'E', 'index': 68, 'score': 0.9460234045982361, 'word': 'V'},\n",
              " {'entity': 'E', 'index': 69, 'score': 0.8103784918785095, 'word': 'P'},\n",
              " {'entity': 'H', 'index': 70, 'score': 0.6465683579444885, 'word': 'M'},\n",
              " {'entity': 'H', 'index': 71, 'score': 0.7520942091941833, 'word': 'S'},\n",
              " {'entity': 'H', 'index': 72, 'score': 0.7010701894760132, 'word': 'K'},\n",
              " {'entity': 'C', 'index': 73, 'score': 0.9597200751304626, 'word': 'I'},\n",
              " {'entity': 'C', 'index': 74, 'score': 0.9738211631774902, 'word': 'P'},\n",
              " {'entity': 'C', 'index': 75, 'score': 0.9710455536842346, 'word': 'A'},\n",
              " {'entity': 'C', 'index': 76, 'score': 0.9612873196601868, 'word': 'G'},\n",
              " {'entity': 'C', 'index': 77, 'score': 0.8336082100868225, 'word': 'V'},\n",
              " {'entity': 'C', 'index': 78, 'score': 0.622489869594574, 'word': 'T'},\n",
              " {'entity': 'C', 'index': 79, 'score': 0.5492979288101196, 'word': 'S'},\n",
              " {'entity': 'E', 'index': 80, 'score': 0.5497759580612183, 'word': 'G'},\n",
              " {'entity': 'E', 'index': 81, 'score': 0.8508475422859192, 'word': 'E'},\n",
              " {'entity': 'E', 'index': 82, 'score': 0.9624269008636475, 'word': 'I'},\n",
              " {'entity': 'E', 'index': 83, 'score': 0.9791267514228821, 'word': 'Q'},\n",
              " {'entity': 'E', 'index': 84, 'score': 0.9798948764801025, 'word': 'I'},\n",
              " {'entity': 'E', 'index': 85, 'score': 0.9719235301017761, 'word': 'W'},\n",
              " {'entity': 'E', 'index': 86, 'score': 0.8516663908958435, 'word': 'W'},\n",
              " {'entity': 'C', 'index': 87, 'score': 0.5924568772315979, 'word': 'H'},\n",
              " {'entity': 'C', 'index': 88, 'score': 0.8402447700500488, 'word': 'S'},\n",
              " {'entity': 'C', 'index': 89, 'score': 0.9259448051452637, 'word': 'G'},\n",
              " {'entity': 'C', 'index': 90, 'score': 0.8522399067878723, 'word': 'D'},\n",
              " {'entity': 'C', 'index': 91, 'score': 0.5957620739936829, 'word': 'L'},\n",
              " {'entity': 'E', 'index': 92, 'score': 0.5843577980995178, 'word': 'K'},\n",
              " {'entity': 'E', 'index': 93, 'score': 0.634384274482727, 'word': 'M'},\n",
              " {'entity': 'E', 'index': 94, 'score': 0.5183501243591309, 'word': 'T'},\n",
              " {'entity': 'C', 'index': 95, 'score': 0.5626972317695618, 'word': 'D'},\n",
              " {'entity': 'C', 'index': 96, 'score': 0.6694103479385376, 'word': 'Y'},\n",
              " {'entity': 'C', 'index': 97, 'score': 0.5841813087463379, 'word': 'K'},\n",
              " {'entity': 'C', 'index': 98, 'score': 0.7428286671638489, 'word': 'A'},\n",
              " {'entity': 'C', 'index': 99, 'score': 0.8836851119995117, 'word': 'L'},\n",
              " {'entity': 'C', 'index': 100, 'score': 0.9084423780441284, 'word': 'E'},\n",
              " {'entity': 'C', 'index': 101, 'score': 0.9327401518821716, 'word': 'H'},\n",
              " {'entity': 'C', 'index': 102, 'score': 0.9633792042732239, 'word': 'H'},\n",
              " {'entity': 'C', 'index': 103, 'score': 0.976529598236084, 'word': 'H'},\n",
              " {'entity': 'C', 'index': 104, 'score': 0.9811090230941772, 'word': 'H'},\n",
              " {'entity': 'C', 'index': 105, 'score': 0.9810128211975098, 'word': 'H'},\n",
              " {'entity': 'C', 'index': 106, 'score': 0.9824864864349365, 'word': 'H'}]"
            ]
          },
          "metadata": {
            "tags": []
          },
          "execution_count": 36
        }
      ]
    },
    {
      "cell_type": "code",
      "metadata": {
        "id": "Hl6vNHbH9rh3"
      },
      "source": [
        ""
      ],
      "execution_count": null,
      "outputs": []
    }
  ]
}